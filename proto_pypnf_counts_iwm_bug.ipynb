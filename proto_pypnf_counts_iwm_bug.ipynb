{
 "cells": [
  {
   "cell_type": "code",
   "execution_count": null,
   "metadata": {},
   "outputs": [],
   "source": [
    "from pypnf import PointFigureChart\n",
    "import datetime, matplotlib as mpl, numpy as np, pandas as pd, yfinance as yf\n",
    "\n",
    "pnf = { }\n",
    "\n",
    "DebugPyPnFCounts = True\n",
    "\n",
    "symbols = ['SPY', 'IWM']\n",
    "Today = datetime.date.today().strftime('%Y-%m-%d')  \n",
    "\n",
    "for symbol in symbols:\n",
    "\n",
    "    print(f\"\\n{symbol}\\n\")\n",
    "    data = yf.Ticker(symbol)\n",
    "    ts = data.history(start='2018-01-01', end=Today, period='1d')\n",
    " \n",
    "    # reset index\n",
    "    ts.reset_index(level=0, inplace=True)\n",
    "\n",
    "    # convert pd.timestamp to string\n",
    "    ts['Date'] = ts['Date'].dt.strftime('%Y-%m-%d')\n",
    "\n",
    "    # select required keys\n",
    "    ts = ts[['Date','Open','High','Low','Close']]\n",
    "\n",
    "    # convert DataFrame to dictionary\n",
    "    ts = ts.to_dict('list')\n",
    "\n",
    "    pnf = PointFigureChart(ts=ts, method='h/l', reversal=3, boxsize=2, scaling='abs', title=symbol)\n",
    "    \n",
    "    if DebugPyPnFCounts is True: \n",
    "\n",
    "        pnf.show_breakouts = True\n",
    "        pnf.show_counts = True\n",
    "        pnf.get_counts()\n",
    "\n",
    "        dfPnFBreakouts = pd.DataFrame.from_dict(pnf.breakouts)\n",
    "        display(dfPnFBreakouts)\n",
    "\n",
    "        dfPnFCounts = pd.DataFrame.from_dict(pnf.counts)\n",
    "        display(dfPnFCounts[['trend','box index', 'length', 'type','target', 'reward', 'risk 1', 'risk 2']])\n",
    "\n",
    "        print(pnf.ts['date'])\n",
    "        print(pnf.time_step)\n",
    "\n",
    "        print(pnf)\n",
    "\n",
    "    else:\n",
    "\n",
    "        pnf.get_trendlines(length=4, mode='weak')\n",
    "        pnf.show_trendlines = 'external'\n",
    "\n",
    "        pnf.show()"
   ]
  },
  {
   "cell_type": "markdown",
   "metadata": {},
   "source": [
    "I started to explore @swaschke's counts branch of pypnf by using above code to call it with SPY and IWM data.\n",
    "\n",
    "1. 'SPY' data generates a chart that I will compare it with a reference implementation.\n",
    "2. (Bug) 'IWM' ticker data from 2018-01-01 to present is real example repro of reversal > 1 bug above.  It returns \"IndexError: \"index 361 is out of bounds for axis 0 with size 340\".  Error output in below markdown section:"
   ]
  },
  {
   "cell_type": "markdown",
   "metadata": {},
   "source": [
    "---------------------------------------------------------------------------\n",
    "IndexError                                Traceback (most recent call last)\n",
    "Cell In[1], line 35\n",
    "     33 pnf.show_breakouts = True\n",
    "     34 pnf.show_counts = True\n",
    "---> 35 pnf.get_counts()\n",
    "     37 dfPnFBreakouts = pd.DataFrame.from_dict(pnf.breakouts)\n",
    "     38 display(dfPnFBreakouts)\n",
    "\n",
    "File ~/Documents/PyPnF/pypnf-counts/pypnf/chart.py:2302, in PointFigureChart.get_counts(self)\n",
    "   2300 # call functions to find counts\n",
    "   2301 if self.reversal > 1:\n",
    "-> 2302     counts = self.counts_reversal_greater_1(counts)\n",
    "   2304 elif self.reversal == 1:\n",
    "   2305     counts = self.counts_reversal_equals_1(counts)\n",
    "\n",
    "File ~/Documents/PyPnF/pypnf-counts/pypnf/chart.py:2001, in PointFigureChart.counts_reversal_greater_1(self, counts)\n",
    "   1997 perc_filled = PointFigureChart.count_percent_filled(count_matrix, width)\n",
    "   1999 target_index = min_index + (width * self.reversal)\n",
    "-> 2001 target = self.boxscale[target_index]\n",
    "   2003 reward = target - self.boxscale[box_index]\n",
    "   2005 risk1 = self.boxscale[box_index] - self.boxscale[np.where(A[:, -2] != 0)[0][0] - 1]\n",
    "\n",
    "IndexError: index 361 is out of bounds for axis 0 with size 340"
   ]
  },
  {
   "cell_type": "markdown",
   "metadata": {},
   "source": [
    "See https://schrts.co/uVUybmPw for example of expected output as a graph (vs text)"
   ]
  }
 ],
 "metadata": {
  "kernelspec": {
   "display_name": "base",
   "language": "python",
   "name": "python3"
  },
  "language_info": {
   "codemirror_mode": {
    "name": "ipython",
    "version": 3
   },
   "file_extension": ".py",
   "mimetype": "text/x-python",
   "name": "python",
   "nbconvert_exporter": "python",
   "pygments_lexer": "ipython3",
   "version": "3.11.8"
  }
 },
 "nbformat": 4,
 "nbformat_minor": 2
}
